{
 "cells": [
  {
   "cell_type": "code",
   "execution_count": null,
   "id": "bd7fb598",
   "metadata": {},
   "outputs": [],
   "source": []
  },
  {
   "cell_type": "code",
   "execution_count": 3,
   "id": "b92d6867",
   "metadata": {},
   "outputs": [],
   "source": [
    "trie = {}\n",
    "text = \"cats\"\n",
    "word2 = \"catalyst\"\n",
    "words = {text:999999999,word2:43423}"
   ]
  },
  {
   "cell_type": "code",
   "execution_count": 4,
   "id": "934b1935",
   "metadata": {},
   "outputs": [
    {
     "name": "stdout",
     "output_type": "stream",
     "text": [
      "{'c': {'a': {'t': {'s': {'$cats': 999999999}}}}}\n",
      "{'c': {'a': {'t': {'s': {'$cats': 999999999}, 'a': {'l': {'y': {'s': {'t': {'$catalyst': 43423}}}}}}}}}\n"
     ]
    }
   ],
   "source": [
    "\n",
    "for word, frequency in words.items():\n",
    "    node = trie\n",
    "    for ch in word:\n",
    "        if ch not in node:\n",
    "            node[ch] = {}\n",
    "        node = node[ch]\n",
    "    node[f'${word}'] = frequency\n",
    "    print(trie)\n"
   ]
  },
  {
   "cell_type": "code",
   "execution_count": 7,
   "id": "2994e8b1",
   "metadata": {},
   "outputs": [],
   "source": [
    "d1 = {'c': {'a': {'t': {'s': {'$cats': 999999999}, 'a': {'l': {'y': {'s': {'t': {'$catalyst': 43423}}}}}}}}}\n"
   ]
  },
  {
   "cell_type": "code",
   "execution_count": 42,
   "id": "eed6de45",
   "metadata": {},
   "outputs": [],
   "source": [
    "def get_values(d, result=None):\n",
    "    if result is None:\n",
    "        result = {}\n",
    "    for key, value in d.items():\n",
    "        if isinstance(value,dict):\n",
    "            get_values(value, result=result)\n",
    "        if \"$\" in key:\n",
    "            result[key] = value\n",
    "    return result"
   ]
  },
  {
   "cell_type": "code",
   "execution_count": 43,
   "id": "127c00eb",
   "metadata": {},
   "outputs": [
    {
     "data": {
      "text/plain": [
       "(dict, {'$cats': 999999999, '$catalyst': 43423})"
      ]
     },
     "execution_count": 43,
     "metadata": {},
     "output_type": "execute_result"
    }
   ],
   "source": [
    "elo = get_values(d1)\n",
    "type(elo), elo"
   ]
  },
  {
   "cell_type": "code",
   "execution_count": 9,
   "id": "f2853772",
   "metadata": {},
   "outputs": [
    {
     "ename": "NameError",
     "evalue": "name 'visited' is not defined",
     "output_type": "error",
     "traceback": [
      "\u001b[1;31m---------------------------------------------------------------------------\u001b[0m",
      "\u001b[1;31mNameError\u001b[0m                                 Traceback (most recent call last)",
      "\u001b[1;32m<ipython-input-9-1aee0850c2f6>\u001b[0m in \u001b[0;36m<module>\u001b[1;34m\u001b[0m\n\u001b[1;32m----> 1\u001b[1;33m \u001b[0mvisited\u001b[0m\u001b[1;33m\u001b[0m\u001b[1;33m\u001b[0m\u001b[0m\n\u001b[0m",
      "\u001b[1;31mNameError\u001b[0m: name 'visited' is not defined"
     ]
    }
   ],
   "source": [
    "visited\n"
   ]
  },
  {
   "cell_type": "code",
   "execution_count": null,
   "id": "a549b9c8",
   "metadata": {},
   "outputs": [],
   "source": []
  }
 ],
 "metadata": {
  "kernelspec": {
   "display_name": "Python 3",
   "language": "python",
   "name": "python3"
  },
  "language_info": {
   "codemirror_mode": {
    "name": "ipython",
    "version": 3
   },
   "file_extension": ".py",
   "mimetype": "text/x-python",
   "name": "python",
   "nbconvert_exporter": "python",
   "pygments_lexer": "ipython3",
   "version": "3.8.8"
  }
 },
 "nbformat": 4,
 "nbformat_minor": 5
}
