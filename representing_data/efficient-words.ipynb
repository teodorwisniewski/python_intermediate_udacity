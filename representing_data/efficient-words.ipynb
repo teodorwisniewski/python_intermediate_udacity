{
 "cells": [
  {
   "cell_type": "code",
   "execution_count": 4,
   "metadata": {
    "edited": true,
    "gradable": true,
    "grader_id": "bm8yd765tpf",
    "udacity_user_query": ""
   },
   "outputs": [
    {
     "data": {
      "text/plain": [
       "(False, True)"
      ]
     },
     "execution_count": 4,
     "metadata": {},
     "output_type": "execute_result"
    }
   ],
   "source": [
    "\"\"\"Check whether a word is 'efficient' - if each letter can be drawn by a pencil without lifting.\"\"\"\n",
    "EFFICIENT_LETTERS = set('BCDGIJLMNOPSUVWZ')\n",
    "\n",
    "def is_efficient(letters):\n",
    "    flag = set(letters).issubset(EFFICIENT_LETTERS)\n",
    "    return flag\n",
    "is_efficient('jiewag'), is_efficient('VOLUMINOUS')"
   ]
  },
  {
   "cell_type": "code",
   "execution_count": 34,
   "metadata": {
    "edited": true,
    "gradable": true,
    "grader_id": "v14o4l83fh",
    "udacity_user_query": ""
   },
   "outputs": [],
   "source": [
    "\"\"\"Swap the keys and values in a mapping.\"\"\"\n",
    "\n",
    "def swap_keys_and_values(d):\n",
    "    out = {}\n",
    "    for key, val in d.items():\n",
    "        print(key,val)\n",
    "        if val in out:\n",
    "            out[val].append(key)\n",
    "            continue\n",
    "        out[val] = [key]\n",
    "    out = {key:set(val) for key,val in out.items()}\n",
    "    return out"
   ]
  },
  {
   "cell_type": "code",
   "execution_count": 35,
   "metadata": {},
   "outputs": [
    {
     "name": "stdout",
     "output_type": "stream",
     "text": [
      "a 1\n",
      "b 2\n"
     ]
    },
    {
     "data": {
      "text/plain": [
       "{1: {'a'}, 2: {'b'}}"
      ]
     },
     "execution_count": 35,
     "metadata": {},
     "output_type": "execute_result"
    }
   ],
   "source": [
    "swap_keys_and_values({'a': 1, 'b': 2})  # => {2: {'b'}, 1: {'a'}}\n"
   ]
  },
  {
   "cell_type": "code",
   "execution_count": 36,
   "metadata": {},
   "outputs": [
    {
     "name": "stdout",
     "output_type": "stream",
     "text": [
      "a 1\n",
      "b 2\n",
      "c 1\n"
     ]
    },
    {
     "data": {
      "text/plain": [
       "{1: {'a', 'c'}, 2: {'b'}}"
      ]
     },
     "execution_count": 36,
     "metadata": {},
     "output_type": "execute_result"
    }
   ],
   "source": [
    "swap_keys_and_values({'a': 1, 'b': 2, 'c': 1}) # => {2: {'b'}, 1: {'a', 'c'}}"
   ]
  },
  {
   "cell_type": "code",
   "execution_count": null,
   "metadata": {},
   "outputs": [],
   "source": []
  },
  {
   "cell_type": "code",
   "execution_count": null,
   "metadata": {},
   "outputs": [],
   "source": []
  }
 ],
 "metadata": {
  "grader_mode": "",
  "kernelspec": {
   "display_name": "Python 3",
   "language": "python",
   "name": "python3"
  },
  "language_info": {
   "codemirror_mode": {
    "name": "ipython",
    "version": 3
   },
   "file_extension": ".py",
   "mimetype": "text/x-python",
   "name": "python",
   "nbconvert_exporter": "python",
   "pygments_lexer": "ipython3",
   "version": "3.6.3"
  },
  "showGradeBtn": true
 },
 "nbformat": 4,
 "nbformat_minor": 2
}
