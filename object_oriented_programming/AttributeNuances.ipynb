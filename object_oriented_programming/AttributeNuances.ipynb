{
 "cells": [
  {
   "cell_type": "markdown",
   "metadata": {},
   "source": [
    "## Debugging\n",
    "\n",
    "Each of the following cells contains a bug related to attributes on instance and class objects.\n",
    "\n",
    "For each, update the code so that the marked block of test code runs correctly. "
   ]
  },
  {
   "cell_type": "code",
   "execution_count": null,
   "metadata": {
    "edited": true,
    "gradable": true,
    "grader_id": "nh5um2ajr7k",
    "udacity_user_query": ""
   },
   "outputs": [],
   "source": [
    "class Dog:\n",
    "    \n",
    "    def __init__(self, name):\n",
    "        self.name = name\n",
    "        self.tricks = set()\n",
    "    def teach(self, trick):\n",
    "        self.tricks.add(trick)\n",
    "        \n",
    "# Change the broken code above so that the following lines work:\n",
    "# \n",
    "# buddy = Dog('Buddy')\n",
    "# pascal = Dog('Pascal')\n",
    "# buddy.teach('sit')\n",
    "# pascal.teach('fetch')\n",
    "# buddy.teach('roll over')\n",
    "# print(buddy.tricks)  # {'sit', 'roll over'}\n",
    "# print(pascal.tricks)  # {'fetch'}"
   ]
  },
  {
   "cell_type": "code",
   "execution_count": 4,
   "metadata": {
    "edited": false,
    "gradable": true,
    "grader_id": "n3au3fe1t4",
    "udacity_user_query": ""
   },
   "outputs": [
    {
     "name": "stdout",
     "output_type": "stream",
     "text": [
      "{'roll over', 'sit'}\n",
      "{'fetch'}\n",
      "{'shake', 'fetch', 'lie down'}\n"
     ]
    }
   ],
   "source": [
    "class Dog:\n",
    "    def __init__(self, name, tricks=None):\n",
    "        self.name = name\n",
    "        if tricks is None:\n",
    "            self.tricks = set()\n",
    "        else:\n",
    "            self.tricks = tricks\n",
    "    def teach(self, trick):\n",
    "        self.tricks.add(trick)\n",
    "        \n",
    "# Change the broken code above so that the following lines work:\n",
    "# \n",
    "buddy = Dog('Buddy')\n",
    "pascal = Dog('Pascal')\n",
    "kimber = Dog('Kimber', tricks={'lie down', 'shake'})\n",
    "buddy.teach('sit')\n",
    "pascal.teach('fetch')\n",
    "buddy.teach('roll over')\n",
    "kimber.teach('fetch')\n",
    "print(buddy.tricks)  # {'sit', 'roll over'}\n",
    "print(pascal.tricks)  # {'fetch'}\n",
    "print(kimber.tricks)  # {'lie down', 'shake', 'fetch'}"
   ]
  },
  {
   "cell_type": "code",
   "execution_count": 7,
   "metadata": {
    "edited": true,
    "gradable": true,
    "grader_id": "0r3t0z7gjwu",
    "udacity_user_query": ""
   },
   "outputs": [
    {
     "name": "stdout",
     "output_type": "stream",
     "text": [
      "set()\n",
      "{'cristina', 'heather'}\n"
     ]
    }
   ],
   "source": [
    "# This one's a bit different, representing an unusual (and honestly,\n",
    "# not recommended) strategy for tracking users that sign up for a service.\n",
    "\n",
    "class User:\n",
    "    # An (intentionally shared) collection storing users who sign up for some hypothetical service.\n",
    "    # There's only one set of members, so it lives at the class level!\n",
    "    members = set()\n",
    "    def __init__(self, name):\n",
    "        self.name = name\n",
    "    def sign_up(self):\n",
    "        self.members.add(self.name)\n",
    "\n",
    "# Change the code above so that the following lines work:\n",
    "# \n",
    "# sarah = User('sarah')\n",
    "# heather = User('heather')\n",
    "# cristina = User('cristina')\n",
    "# print(User.members)  # {}\n",
    "# heather.sign_up()\n",
    "# cristina.sign_up()\n",
    "# print(User.members)  # {'heather', 'cristina'}"
   ]
  },
  {
   "cell_type": "code",
   "execution_count": null,
   "metadata": {},
   "outputs": [],
   "source": []
  }
 ],
 "metadata": {
  "grader_mode": "",
  "kernelspec": {
   "display_name": "Python 3",
   "language": "python",
   "name": "python3"
  },
  "language_info": {
   "codemirror_mode": {
    "name": "ipython",
    "version": 3
   },
   "file_extension": ".py",
   "mimetype": "text/x-python",
   "name": "python",
   "nbconvert_exporter": "python",
   "pygments_lexer": "ipython3",
   "version": "3.6.3"
  },
  "showGradeBtn": true
 },
 "nbformat": 4,
 "nbformat_minor": 2
}
