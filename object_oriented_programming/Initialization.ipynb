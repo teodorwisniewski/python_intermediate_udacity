{
 "cells": [
  {
   "cell_type": "markdown",
   "metadata": {},
   "source": [
    "## Custom Initialization\n",
    "\n",
    "Define a class object `Notebook` that can be instantiated with three arguments - a number of pages (required), a paper size description (optional, defaulting to 'a4'), and a spacing description (optional, defaulting to 'college')\n",
    "\n",
    "Your class should be able to be initialized like:\n",
    "\n",
    "```\n",
    "journal = Notebook(80, size='letter', spacing='wide')\n",
    "```\n",
    "\n",
    "You should set three attributes on the instance object in the initializer - `pages`, `size`, and `spacing`.\n",
    "\n",
    "Have some fun here too! Are there other attributes you would like your notebook to have?"
   ]
  },
  {
   "cell_type": "code",
   "execution_count": 1,
   "metadata": {
    "edited": true,
    "gradable": true,
    "grader_id": "3y6ox5ncf1y",
    "udacity_user_query": ""
   },
   "outputs": [],
   "source": [
    "class Notebook:\n",
    "    \n",
    "    def __init__(self, pages, size='a4', spacing=\"college\"):\n",
    "        self.pages = pages\n",
    "        self.size = size\n",
    "        self.spacing = spacing\n",
    "        "
   ]
  },
  {
   "cell_type": "code",
   "execution_count": null,
   "metadata": {},
   "outputs": [],
   "source": []
  }
 ],
 "metadata": {
  "grader_mode": "",
  "kernelspec": {
   "display_name": "Python 3",
   "language": "python",
   "name": "python3"
  },
  "language_info": {
   "codemirror_mode": {
    "name": "ipython",
    "version": 3
   },
   "file_extension": ".py",
   "mimetype": "text/x-python",
   "name": "python",
   "nbconvert_exporter": "python",
   "pygments_lexer": "ipython3",
   "version": "3.6.3"
  },
  "showGradeBtn": true
 },
 "nbformat": 4,
 "nbformat_minor": 2
}
