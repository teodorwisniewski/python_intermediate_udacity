{
 "cells": [
  {
   "cell_type": "markdown",
   "metadata": {},
   "source": [
    "## Methods and Functions\n",
    "\n",
    "Add a method `build_expansion` to a `House` class that increases a house's size by a given number. That is, the following should work\n",
    "\n",
    "```\n",
    "home = House(2000)\n",
    "print(home.size)  # 2000\n",
    "home.build_expansion(500)\n",
    "print(home.size)  # 2500\n",
    "```"
   ]
  },
  {
   "cell_type": "code",
   "execution_count": 1,
   "metadata": {
    "edited": true,
    "gradable": true,
    "grader_id": "kdizjl9p25h",
    "udacity_user_query": ""
   },
   "outputs": [],
   "source": [
    "class House:\n",
    "    def __init__(self, size, color='white'):\n",
    "        self.size = size\n",
    "        self.color = color\n",
    "        \n",
    "    # TODO: Add a `build_expansion` method.\n",
    "    def build_expansion(self, increase):\n",
    "        self.size += increase\n",
    "    \n",
    "home = House(2000)"
   ]
  },
  {
   "cell_type": "code",
   "execution_count": 2,
   "metadata": {},
   "outputs": [
    {
     "name": "stdout",
     "output_type": "stream",
     "text": [
      "2000\n",
      "2500\n"
     ]
    }
   ],
   "source": [
    "print(home.size)  # 2000\n",
    "home.build_expansion(500)\n",
    "print(home.size)  # 2500"
   ]
  },
  {
   "cell_type": "code",
   "execution_count": null,
   "metadata": {},
   "outputs": [],
   "source": []
  }
 ],
 "metadata": {
  "grader_mode": "",
  "kernelspec": {
   "display_name": "Python 3",
   "language": "python",
   "name": "python3"
  },
  "language_info": {
   "codemirror_mode": {
    "name": "ipython",
    "version": 3
   },
   "file_extension": ".py",
   "mimetype": "text/x-python",
   "name": "python",
   "nbconvert_exporter": "python",
   "pygments_lexer": "ipython3",
   "version": "3.6.3"
  },
  "showGradeBtn": true
 },
 "nbformat": 4,
 "nbformat_minor": 2
}
