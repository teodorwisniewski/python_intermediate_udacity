{
 "cells": [
  {
   "cell_type": "markdown",
   "metadata": {},
   "source": [
    "## Tribonacci Numbers\n",
    "\n",
    "The Tribonacci numbers are defined recursively, like the Fibonacci numbers, except that each subsequent number is the sum of the previous _three_. The first three Tribonacci numbers are 0, 0, 1. The next Tribonacci numbers in the sequence are 1, 2, 4, 7, 13, 24, 44, 81, ...\n",
    "\n",
    "Write a generator function `generate_tribonacci_numbers` that generates an infinite stream of Tribonacci numbers. It will look very similar to the `generate_fibs` function we saw previously.\n",
    "\n",
    "Then, write a function `is_tribonacci` that checks if a given number is a Tribonacci number. Be careful! You'll need to stop your search for a match if the Tribonacci number you're generating get too big. Specifically - the implementation `return num in generate_tribonacci_numbers()` will work fine when the number is a Tribonacci number, but will continue infinitely if not."
   ]
  },
  {
   "cell_type": "code",
   "execution_count": null,
   "metadata": {
    "edited": true,
    "gradable": true,
    "grader_id": "6lww8cbhj2f",
    "udacity_user_query": ""
   },
   "outputs": [],
   "source": [
    "def generate_tribonacci_numbers():\n",
    "    a, b, c = 0, 0, 1\n",
    "    # Yield an infinite stream of Tribonacci numbers! The next value of the sequence will be c + b + a.\n",
    "    while True:\n",
    "        yield a\n",
    "        a, b, c = b,c, a+b+c \n",
    "    \n",
    "def is_tribonacci(num):\n",
    "    \"\"\"Return whether `num` is a Tribonacci number.\"\"\"\n",
    "    # Be careful to not loop infinitely!\n",
    "    for el in generate_tribonacci_numbers():\n",
    "        if num==el:\n",
    "            return True\n",
    "        elif el>num:\n",
    "            return False\n",
    "     "
   ]
  }
 ],
 "metadata": {
  "grader_mode": "",
  "kernelspec": {
   "display_name": "Python 3",
   "language": "python",
   "name": "python3"
  },
  "language_info": {
   "codemirror_mode": {
    "name": "ipython",
    "version": 3
   },
   "file_extension": ".py",
   "mimetype": "text/x-python",
   "name": "python",
   "nbconvert_exporter": "python",
   "pygments_lexer": "ipython3",
   "version": "3.6.3"
  },
  "showGradeBtn": true
 },
 "nbformat": 4,
 "nbformat_minor": 2
}
